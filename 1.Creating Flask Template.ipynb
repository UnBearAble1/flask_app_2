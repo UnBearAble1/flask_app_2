{
 "cells": [
  {
   "cell_type": "code",
   "execution_count": 1,
   "id": "f71657ee",
   "metadata": {},
   "outputs": [],
   "source": [
    "# import dependencies\n",
    "import json\n",
    "import pandas as pd\n",
    "from unidecode import unidecode\n",
    "import re\n",
    "import codecs\n",
    "import sqlite3"
   ]
  },
  {
   "cell_type": "code",
   "execution_count": 2,
   "id": "49f84307",
   "metadata": {},
   "outputs": [],
   "source": [
    "# create connection and name database\n",
    "conn = sqlite3.connect('articles.sqlite')\n",
    "\n",
    "df = pd.read_sql('select * from articles', conn)"
   ]
  },
  {
   "cell_type": "code",
   "execution_count": 3,
   "id": "4f714404",
   "metadata": {},
   "outputs": [
    {
     "data": {
      "text/html": [
       "<div>\n",
       "<style scoped>\n",
       "    .dataframe tbody tr th:only-of-type {\n",
       "        vertical-align: middle;\n",
       "    }\n",
       "\n",
       "    .dataframe tbody tr th {\n",
       "        vertical-align: top;\n",
       "    }\n",
       "\n",
       "    .dataframe thead th {\n",
       "        text-align: right;\n",
       "    }\n",
       "</style>\n",
       "<table border=\"1\" class=\"dataframe\">\n",
       "  <thead>\n",
       "    <tr style=\"text-align: right;\">\n",
       "      <th></th>\n",
       "      <th>title</th>\n",
       "      <th>content</th>\n",
       "      <th>url</th>\n",
       "    </tr>\n",
       "  </thead>\n",
       "  <tbody>\n",
       "    <tr>\n",
       "      <th>0</th>\n",
       "      <td>Persistent Damage</td>\n",
       "      <td>&lt;h1&gt;Persistent Damage&lt;/h1&gt;&lt;/br&gt;&lt;div data-compo...</td>\n",
       "      <td>persistent-damage</td>\n",
       "    </tr>\n",
       "    <tr>\n",
       "      <th>1</th>\n",
       "      <td>Frightened</td>\n",
       "      <td>&lt;h1&gt;Frightened&lt;/h1&gt;&lt;/br&gt;&lt;div data-component-ty...</td>\n",
       "      <td>frightened</td>\n",
       "    </tr>\n",
       "    <tr>\n",
       "      <th>2</th>\n",
       "      <td>Dazzled</td>\n",
       "      <td>&lt;h1&gt;Dazzled&lt;/h1&gt;&lt;/br&gt;&lt;div data-component-type=...</td>\n",
       "      <td>dazzled</td>\n",
       "    </tr>\n",
       "    <tr>\n",
       "      <th>3</th>\n",
       "      <td>Controlled</td>\n",
       "      <td>&lt;h1&gt;Controlled&lt;/h1&gt;&lt;/br&gt;&lt;div data-component-ty...</td>\n",
       "      <td>controlled</td>\n",
       "    </tr>\n",
       "    <tr>\n",
       "      <th>4</th>\n",
       "      <td>Undetected</td>\n",
       "      <td>&lt;h1&gt;Undetected&lt;/h1&gt;&lt;/br&gt;&lt;div data-component-ty...</td>\n",
       "      <td>undetected</td>\n",
       "    </tr>\n",
       "    <tr>\n",
       "      <th>...</th>\n",
       "      <td>...</td>\n",
       "      <td>...</td>\n",
       "      <td>...</td>\n",
       "    </tr>\n",
       "    <tr>\n",
       "      <th>4202</th>\n",
       "      <td>Word of Recall</td>\n",
       "      <td>&lt;h1&gt;Word of Recall&lt;/h1&gt;&lt;/br&gt;&lt;div data-componen...</td>\n",
       "      <td>word-of-recall</td>\n",
       "    </tr>\n",
       "    <tr>\n",
       "      <th>4203</th>\n",
       "      <td>Selective Energy</td>\n",
       "      <td>&lt;h1&gt;Selective Energy&lt;/h1&gt;&lt;/br&gt;&lt;div data-compon...</td>\n",
       "      <td>selective-energy</td>\n",
       "    </tr>\n",
       "    <tr>\n",
       "      <th>4204</th>\n",
       "      <td>Spellcaster Feats</td>\n",
       "      <td>&lt;h1&gt;Spellcaster Feats&lt;/h1&gt;&lt;/br&gt;&lt;div data-compo...</td>\n",
       "      <td>spellcaster-feats</td>\n",
       "    </tr>\n",
       "    <tr>\n",
       "      <th>4205</th>\n",
       "      <td>Breath of Life</td>\n",
       "      <td>&lt;h1&gt;Breath of Life&lt;/h1&gt;&lt;/br&gt;&lt;div data-componen...</td>\n",
       "      <td>breath-of-life</td>\n",
       "    </tr>\n",
       "    <tr>\n",
       "      <th>4206</th>\n",
       "      <td>Sacred Defense</td>\n",
       "      <td>&lt;h1&gt;Sacred Defense&lt;/h1&gt;&lt;/br&gt;&lt;div data-componen...</td>\n",
       "      <td>sacred-defense</td>\n",
       "    </tr>\n",
       "  </tbody>\n",
       "</table>\n",
       "<p>4207 rows × 3 columns</p>\n",
       "</div>"
      ],
      "text/plain": [
       "                  title                                            content  \\\n",
       "0     Persistent Damage  <h1>Persistent Damage</h1></br><div data-compo...   \n",
       "1            Frightened  <h1>Frightened</h1></br><div data-component-ty...   \n",
       "2               Dazzled  <h1>Dazzled</h1></br><div data-component-type=...   \n",
       "3            Controlled  <h1>Controlled</h1></br><div data-component-ty...   \n",
       "4            Undetected  <h1>Undetected</h1></br><div data-component-ty...   \n",
       "...                 ...                                                ...   \n",
       "4202     Word of Recall  <h1>Word of Recall</h1></br><div data-componen...   \n",
       "4203   Selective Energy  <h1>Selective Energy</h1></br><div data-compon...   \n",
       "4204  Spellcaster Feats  <h1>Spellcaster Feats</h1></br><div data-compo...   \n",
       "4205     Breath of Life  <h1>Breath of Life</h1></br><div data-componen...   \n",
       "4206     Sacred Defense  <h1>Sacred Defense</h1></br><div data-componen...   \n",
       "\n",
       "                    url  \n",
       "0     persistent-damage  \n",
       "1            frightened  \n",
       "2               dazzled  \n",
       "3            controlled  \n",
       "4            undetected  \n",
       "...                 ...  \n",
       "4202     word-of-recall  \n",
       "4203   selective-energy  \n",
       "4204  spellcaster-feats  \n",
       "4205     breath-of-life  \n",
       "4206     sacred-defense  \n",
       "\n",
       "[4207 rows x 3 columns]"
      ]
     },
     "execution_count": 3,
     "metadata": {},
     "output_type": "execute_result"
    }
   ],
   "source": [
    "df"
   ]
  },
  {
   "cell_type": "code",
   "execution_count": null,
   "id": "d0b37649",
   "metadata": {},
   "outputs": [],
   "source": [
    "# file = open(\".articles.json\", encoding='utf-8')"
   ]
  },
  {
   "cell_type": "code",
   "execution_count": null,
   "id": "0a57932c",
   "metadata": {},
   "outputs": [],
   "source": [
    "# data = json.load(file)"
   ]
  },
  {
   "cell_type": "code",
   "execution_count": 12,
   "id": "ed4d5891",
   "metadata": {},
   "outputs": [
    {
     "data": {
      "text/plain": [
       "'persistent-damage'"
      ]
     },
     "execution_count": 12,
     "metadata": {},
     "output_type": "execute_result"
    }
   ],
   "source": [
    "df[\"url\"].iloc[0]"
   ]
  },
  {
   "cell_type": "code",
   "execution_count": 13,
   "id": "9d7bf9e7",
   "metadata": {},
   "outputs": [],
   "source": [
    "# go through each column\n",
    "for i, row in df.iterrows():\n",
    "    # set up definition title\n",
    "    def_title = df[\"url\"].iloc[i]\n",
    "    def_title = def_title.replace(\"/\",\"_\")\n",
    "    def_title = def_title.replace(\"-\",\"_\")\n",
    "    def_title = def_title.replace(\":\",\"_\")\n",
    "    def_title = def_title.replace(\"(\",\"_\")\n",
    "    def_title = def_title.replace(\")\",\"_\")\n",
    "    def_title = def_title.replace(\"'\",\"_\")\n",
    "    def_title = def_title.replace(\"!\",\"_\")\n",
    "    def_title = def_title.replace(\";\",\"_\")\n",
    "    def_title = def_title.replace(\",\",\"_\")\n",
    "    def_title = def_title.replace(\"?\",\"_\")\n",
    "    def_title = def_title.replace(\" \",\"_\")\n",
    "    def_title = def_title.replace(\"_article_\",\"\")\n",
    "    # mirror the naming convention used in html file creation so it syncs up in the templates\n",
    "    url = df[\"url\"].iloc[i]\n",
    "    url = url.replace(\"/article/\",\"\")\n",
    "    #create html file and close it\n",
    "    Func = open('app.py', 'a')\n",
    "    Func.write('@app.route(\"/'+f'{url}'+'\\\")\\n'\n",
    "     'def '+f'{def_title}'+'():\\n'\n",
    "     '\\treturn render_template(\"'+f'{url}'+'.html\")\\n\\n')\n",
    "    Func.close()"
   ]
  },
  {
   "cell_type": "code",
   "execution_count": null,
   "id": "d52552fb",
   "metadata": {},
   "outputs": [],
   "source": []
  }
 ],
 "metadata": {
  "kernelspec": {
   "display_name": "PythonData",
   "language": "python",
   "name": "pythondata"
  },
  "language_info": {
   "codemirror_mode": {
    "name": "ipython",
    "version": 3
   },
   "file_extension": ".py",
   "mimetype": "text/x-python",
   "name": "python",
   "nbconvert_exporter": "python",
   "pygments_lexer": "ipython3",
   "version": "3.7.15"
  }
 },
 "nbformat": 4,
 "nbformat_minor": 5
}

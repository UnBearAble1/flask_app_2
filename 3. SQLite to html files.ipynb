{
 "cells": [
  {
   "cell_type": "code",
   "execution_count": 1,
   "id": "8096f809",
   "metadata": {},
   "outputs": [],
   "source": [
    "# Notes: Uses the sqlite3 database to create separate html files. Since all data edits are done \n",
    "#     in the sqlite database, no need to alter url data, so that .html files and the @app route entries\n",
    "#     are the same "
   ]
  },
  {
   "cell_type": "code",
   "execution_count": 2,
   "id": "9d83fb43",
   "metadata": {},
   "outputs": [],
   "source": [
    "# import dependencies\n",
    "import json\n",
    "import pandas as pd\n",
    "from unidecode import unidecode\n",
    "import re\n",
    "import codecs\n",
    "import sqlite3"
   ]
  },
  {
   "cell_type": "code",
   "execution_count": 3,
   "id": "c00a4f69",
   "metadata": {},
   "outputs": [],
   "source": [
    "# create connection and name database\n",
    "conn = sqlite3.connect('articles.sqlite')\n",
    "\n",
    "df = pd.read_sql('select * from articles', conn)"
   ]
  },
  {
   "cell_type": "code",
   "execution_count": 12,
   "id": "668dd42b",
   "metadata": {},
   "outputs": [
    {
     "data": {
      "text/html": [
       "<div>\n",
       "<style scoped>\n",
       "    .dataframe tbody tr th:only-of-type {\n",
       "        vertical-align: middle;\n",
       "    }\n",
       "\n",
       "    .dataframe tbody tr th {\n",
       "        vertical-align: top;\n",
       "    }\n",
       "\n",
       "    .dataframe thead th {\n",
       "        text-align: right;\n",
       "    }\n",
       "</style>\n",
       "<table border=\"1\" class=\"dataframe\">\n",
       "  <thead>\n",
       "    <tr style=\"text-align: right;\">\n",
       "      <th></th>\n",
       "      <th>title</th>\n",
       "      <th>content</th>\n",
       "      <th>url</th>\n",
       "    </tr>\n",
       "  </thead>\n",
       "  <tbody>\n",
       "    <tr>\n",
       "      <th>0</th>\n",
       "      <td>Persistent Damage</td>\n",
       "      <td>&lt;h1&gt;Persistent Damage&lt;/h1&gt;&lt;/br&gt;&lt;div data-compo...</td>\n",
       "      <td>persistent-damage</td>\n",
       "    </tr>\n",
       "    <tr>\n",
       "      <th>1</th>\n",
       "      <td>Frightened</td>\n",
       "      <td>&lt;h1&gt;Frightened&lt;/h1&gt;&lt;/br&gt;&lt;div data-component-ty...</td>\n",
       "      <td>frightened</td>\n",
       "    </tr>\n",
       "    <tr>\n",
       "      <th>2</th>\n",
       "      <td>Dazzled</td>\n",
       "      <td>&lt;h1&gt;Dazzled&lt;/h1&gt;&lt;/br&gt;&lt;div data-component-type=...</td>\n",
       "      <td>dazzled</td>\n",
       "    </tr>\n",
       "    <tr>\n",
       "      <th>3</th>\n",
       "      <td>Controlled</td>\n",
       "      <td>&lt;h1&gt;Controlled&lt;/h1&gt;&lt;/br&gt;&lt;div data-component-ty...</td>\n",
       "      <td>controlled</td>\n",
       "    </tr>\n",
       "    <tr>\n",
       "      <th>4</th>\n",
       "      <td>Undetected</td>\n",
       "      <td>&lt;h1&gt;Undetected&lt;/h1&gt;&lt;/br&gt;&lt;div data-component-ty...</td>\n",
       "      <td>undetected</td>\n",
       "    </tr>\n",
       "    <tr>\n",
       "      <th>...</th>\n",
       "      <td>...</td>\n",
       "      <td>...</td>\n",
       "      <td>...</td>\n",
       "    </tr>\n",
       "    <tr>\n",
       "      <th>4202</th>\n",
       "      <td>Word of Recall</td>\n",
       "      <td>&lt;h1&gt;Word of Recall&lt;/h1&gt;&lt;/br&gt;&lt;div data-componen...</td>\n",
       "      <td>word-of-recall</td>\n",
       "    </tr>\n",
       "    <tr>\n",
       "      <th>4203</th>\n",
       "      <td>Selective Energy</td>\n",
       "      <td>&lt;h1&gt;Selective Energy&lt;/h1&gt;&lt;/br&gt;&lt;div data-compon...</td>\n",
       "      <td>selective-energy</td>\n",
       "    </tr>\n",
       "    <tr>\n",
       "      <th>4204</th>\n",
       "      <td>Spellcaster Feats</td>\n",
       "      <td>&lt;h1&gt;Spellcaster Feats&lt;/h1&gt;&lt;/br&gt;&lt;div data-compo...</td>\n",
       "      <td>spellcaster-feats</td>\n",
       "    </tr>\n",
       "    <tr>\n",
       "      <th>4205</th>\n",
       "      <td>Breath of Life</td>\n",
       "      <td>&lt;h1&gt;Breath of Life&lt;/h1&gt;&lt;/br&gt;&lt;div data-componen...</td>\n",
       "      <td>breath-of-life</td>\n",
       "    </tr>\n",
       "    <tr>\n",
       "      <th>4206</th>\n",
       "      <td>Sacred Defense</td>\n",
       "      <td>&lt;h1&gt;Sacred Defense&lt;/h1&gt;&lt;/br&gt;&lt;div data-componen...</td>\n",
       "      <td>sacred-defense</td>\n",
       "    </tr>\n",
       "  </tbody>\n",
       "</table>\n",
       "<p>4207 rows × 3 columns</p>\n",
       "</div>"
      ],
      "text/plain": [
       "                  title                                            content  \\\n",
       "0     Persistent Damage  <h1>Persistent Damage</h1></br><div data-compo...   \n",
       "1            Frightened  <h1>Frightened</h1></br><div data-component-ty...   \n",
       "2               Dazzled  <h1>Dazzled</h1></br><div data-component-type=...   \n",
       "3            Controlled  <h1>Controlled</h1></br><div data-component-ty...   \n",
       "4            Undetected  <h1>Undetected</h1></br><div data-component-ty...   \n",
       "...                 ...                                                ...   \n",
       "4202     Word of Recall  <h1>Word of Recall</h1></br><div data-componen...   \n",
       "4203   Selective Energy  <h1>Selective Energy</h1></br><div data-compon...   \n",
       "4204  Spellcaster Feats  <h1>Spellcaster Feats</h1></br><div data-compo...   \n",
       "4205     Breath of Life  <h1>Breath of Life</h1></br><div data-componen...   \n",
       "4206     Sacred Defense  <h1>Sacred Defense</h1></br><div data-componen...   \n",
       "\n",
       "                    url  \n",
       "0     persistent-damage  \n",
       "1            frightened  \n",
       "2               dazzled  \n",
       "3            controlled  \n",
       "4            undetected  \n",
       "...                 ...  \n",
       "4202     word-of-recall  \n",
       "4203   selective-energy  \n",
       "4204  spellcaster-feats  \n",
       "4205     breath-of-life  \n",
       "4206     sacred-defense  \n",
       "\n",
       "[4207 rows x 3 columns]"
      ]
     },
     "execution_count": 12,
     "metadata": {},
     "output_type": "execute_result"
    }
   ],
   "source": [
    "df"
   ]
  },
  {
   "cell_type": "code",
   "execution_count": 6,
   "id": "52b70ebf",
   "metadata": {},
   "outputs": [
    {
     "data": {
      "text/plain": [
       "'CHARACTER CREATION GUIDE'"
      ]
     },
     "execution_count": 6,
     "metadata": {},
     "output_type": "execute_result"
    }
   ],
   "source": [
    "df['title'].iloc[4079]"
   ]
  },
  {
   "cell_type": "code",
   "execution_count": null,
   "id": "d538d6af",
   "metadata": {},
   "outputs": [],
   "source": [
    "# go through each column\n",
    "for i, row in df.iterrows():\n",
    "    #title for the html page <h1>Heading</h1>\n",
    "    title = df[\"title\"].iloc[i]\n",
    "    # set up the url (same as 2. SQL to App.py.ipynb)\n",
    "    url = df[\"url\"].iloc[i]\n",
    "    #define content\n",
    "    content = df['content'].iloc[i]\n",
    "    Func = open(f'{url}.html', 'w')\n",
    "    Func.close\n",
    "    #reopen html file and update with desired content\n",
    "    f = open(f'{url}.html','w')\n",
    "    f.write('{% extends \"v1base.html\" %}')\n",
    "    f.close()\n",
    "    f = open(f'{url}.html','a')\n",
    "    f.write(\"<h1>\"+title+\"</h1></br>\"+content)\n",
    "    f.close()\n",
    "    f = open(f'{url}.html','a')\n",
    "    f.write(\"{% block content %}\")\n",
    "    f.close()\n",
    "    f = open(f'{url}.html','a')\n",
    "    f.write(\"{% endblock %}\")\n",
    "    f.close()"
   ]
  },
  {
   "cell_type": "code",
   "execution_count": null,
   "id": "ec8c8550",
   "metadata": {},
   "outputs": [],
   "source": [
    "# iterate through the list to create html file\n",
    "# learned at https://www.geeksforgeeks.org/how-to-write-to-an-html-file-in-python/\n",
    "# for i in range(len(navbar)):\n",
    "#     try:\n",
    "#         # title for the html page banner\n",
    "#         title = data[i][\"title\"]\n",
    "#         # url for the html file title and the title in the flask render_template command\n",
    "#         url = data[i][\"url\"]\n",
    "#         # content is in html format\n",
    "#         content = data[i][\"content\"]\n",
    "#         #update urls with new path (not ideal, would rather have used flask method with {{__url_for(article)__}} but its really complex)\n",
    "#         content = content.replace(\"href=\\\"https://pf2lazcut.wixanswers.com/en/article/\", \"href=\\\"https://unbearable1.pythonanywhere.com/\")\n",
    "#         content = content.replace(\"href=\\\"https://pf2lazcut.wixanswers.com/kb/en/article/\", \"href=\\\"https://unbearable1.pythonanywhere.com/\")\n",
    "#         content = content.replace(\"\\xa0\", \"</br>\")\n",
    "#         content = content.replace(\"\\n\", \"</br>\")\n",
    "#         content = content.replace(\"é\", \"e\")\n",
    "#         content = content.replace(\"\\0\", \"\")\n",
    "#         content = unidecode(content)\n",
    "#         content = codecs.decode(codecs.decode(content, 'unicode_escape'), 'unicode_escape')\n",
    "#         #create html file and close it\n",
    "#         Func = open(f'{url}.html', 'w')\n",
    "#         Func.close\n",
    "#         #reopen html file and update with desired content\n",
    "#         f = open(f'{url}.html','w')\n",
    "#         f.write(\"<h1>\"+title+\"</h1></br>\"+content)\n",
    "#         f.close()\n",
    "#     # skip if there is an error (some of the formatting is odd so this is a possibility)\n",
    "#     except:\n",
    "#         pass"
   ]
  },
  {
   "cell_type": "code",
   "execution_count": 15,
   "id": "15c41c45",
   "metadata": {},
   "outputs": [],
   "source": [
    "#  test on one html\n",
    "#title for the html page <h1>Heading</h1>\n",
    "title = df[\"title\"].iloc[4080]\n",
    "# set up the url (same as 2. SQL to App.py.ipynb)\n",
    "url = df[\"url\"].iloc[4080]\n",
    "#define content\n",
    "content = df['content'].iloc[4080]\n",
    "Func = open(f'{url}.html', 'w')\n",
    "Func.close\n",
    "#reopen html file and update with desired content\n",
    "f = open(f'{url}.html','w')\n",
    "f.write('{% extends \"v1base.html\" %}\\n')\n",
    "f.close()\n",
    "f = open(f'{url}.html','a')\n",
    "f.write(\"{% block content %}\\n\")\n",
    "f.close()\n",
    "f = open(f'{url}.html','a')\n",
    "f.write(f'<h1>{title}</h1></br>{content}\\n')\n",
    "f.close()\n",
    "f = open(f'{url}.html','a')\n",
    "f.write(\"{% endblock %}\")\n",
    "f.close()"
   ]
  },
  {
   "cell_type": "code",
   "execution_count": null,
   "id": "a5ea622f",
   "metadata": {},
   "outputs": [],
   "source": [
    "# THE TEST WORKS!!!!!!"
   ]
  },
  {
   "cell_type": "code",
   "execution_count": null,
   "id": "08653c5b",
   "metadata": {},
   "outputs": [],
   "source": []
  }
 ],
 "metadata": {
  "kernelspec": {
   "display_name": "PythonData",
   "language": "python",
   "name": "pythondata"
  },
  "language_info": {
   "codemirror_mode": {
    "name": "ipython",
    "version": 3
   },
   "file_extension": ".py",
   "mimetype": "text/x-python",
   "name": "python",
   "nbconvert_exporter": "python",
   "pygments_lexer": "ipython3",
   "version": "3.7.15"
  }
 },
 "nbformat": 4,
 "nbformat_minor": 5
}
